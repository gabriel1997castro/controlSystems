{
  "nbformat": 4,
  "nbformat_minor": 0,
  "metadata": {
    "colab": {
      "name": "control.ipynb",
      "provenance": [],
      "authorship_tag": "ABX9TyOGqkPQWRQt35XH6MTwMDEr",
      "include_colab_link": true
    },
    "kernelspec": {
      "name": "python3",
      "display_name": "Python 3"
    },
    "language_info": {
      "name": "python"
    }
  },
  "cells": [
    {
      "cell_type": "markdown",
      "metadata": {
        "id": "view-in-github",
        "colab_type": "text"
      },
      "source": [
        "<a href=\"https://colab.research.google.com/github/gabriel1997castro/controlSystems/blob/master/control.ipynb\" target=\"_parent\"><img src=\"https://colab.research.google.com/assets/colab-badge.svg\" alt=\"Open In Colab\"/></a>"
      ]
    },
    {
      "cell_type": "code",
      "metadata": {
        "colab": {
          "base_uri": "https://localhost:8080/"
        },
        "id": "duVlSP0vm8rR",
        "outputId": "d8592290-d622-4da6-9782-bea7208c9333"
      },
      "source": [
        "!pip install -U control qtpy;"
      ],
      "execution_count": 6,
      "outputs": [
        {
          "output_type": "stream",
          "name": "stdout",
          "text": [
            "Requirement already satisfied: control in /usr/local/lib/python3.7/dist-packages (0.9.0)\n",
            "Requirement already satisfied: qtpy in /usr/local/lib/python3.7/dist-packages (1.11.2)\n",
            "Requirement already satisfied: matplotlib in /usr/local/lib/python3.7/dist-packages (from control) (3.2.2)\n",
            "Requirement already satisfied: scipy in /usr/local/lib/python3.7/dist-packages (from control) (1.4.1)\n",
            "Requirement already satisfied: numpy in /usr/local/lib/python3.7/dist-packages (from control) (1.19.5)\n",
            "Requirement already satisfied: python-dateutil>=2.1 in /usr/local/lib/python3.7/dist-packages (from matplotlib->control) (2.8.2)\n",
            "Requirement already satisfied: pyparsing!=2.0.4,!=2.1.2,!=2.1.6,>=2.0.1 in /usr/local/lib/python3.7/dist-packages (from matplotlib->control) (2.4.7)\n",
            "Requirement already satisfied: kiwisolver>=1.0.1 in /usr/local/lib/python3.7/dist-packages (from matplotlib->control) (1.3.2)\n",
            "Requirement already satisfied: cycler>=0.10 in /usr/local/lib/python3.7/dist-packages (from matplotlib->control) (0.10.0)\n",
            "Requirement already satisfied: six in /usr/local/lib/python3.7/dist-packages (from cycler>=0.10->matplotlib->control) (1.15.0)\n"
          ]
        }
      ]
    },
    {
      "cell_type": "code",
      "metadata": {
        "id": "f0TkRBrS7kan"
      },
      "source": [
        "import numpy as np\n",
        "import math\n",
        "import matplotlib.pyplot as plt\n",
        "import control as ctrl\n",
        "from control.matlab import *\n",
        "import scipy.linalg as la\n",
        "import scipy.signal as sps"
      ],
      "execution_count": 8,
      "outputs": []
    },
    {
      "cell_type": "markdown",
      "metadata": {
        "id": "RzFoF4H59oIV"
      },
      "source": [
        "## Matrizes do sistema"
      ]
    },
    {
      "cell_type": "code",
      "metadata": {
        "id": "FH8oKnxg7zBJ"
      },
      "source": [
        "A = [[0, 1], [-2, -3]]\n",
        "B = [[0], [1]]\n",
        "C = [[2, 0]]\n",
        "D = [[0]]"
      ],
      "execution_count": 15,
      "outputs": []
    },
    {
      "cell_type": "markdown",
      "metadata": {
        "id": "P8LbJL5n-BLd"
      },
      "source": [
        "## Declaração do sistema"
      ]
    },
    {
      "cell_type": "code",
      "metadata": {
        "id": "nao762Bc-Myd"
      },
      "source": [
        "sys = ss(A, B, C, D)"
      ],
      "execution_count": 16,
      "outputs": []
    },
    {
      "cell_type": "markdown",
      "metadata": {
        "id": "6d-vd5Ps-_6Z"
      },
      "source": [
        "## Resposta ao degrau"
      ]
    },
    {
      "cell_type": "code",
      "metadata": {
        "colab": {
          "base_uri": "https://localhost:8080/",
          "height": 280
        },
        "id": "05cKzpli9y7v",
        "outputId": "77e96a24-e7cf-4ecf-bfb9-865a0220b28c"
      },
      "source": [
        "t = np.linspace(0, 12, 1000)\n",
        "y1, t1, x1 = step(sys, t, return_x=True)\n",
        "plt.figure()\n",
        "plt.subplot(3,1,1)\n",
        "plt.plot(t1, y1)\n",
        "plt.legend(['Saída y'])\n",
        "plt.ylabel('Amplitude')\n",
        "\n",
        "plt.subplot(3,1,2)\n",
        "plt.plot(t1, x1[:,0])\n",
        "plt.legend(['Estado $x_1$'])\n",
        "plt.ylabel('Amplitude')\n",
        "\n",
        "plt.subplot(3,1,3)\n",
        "plt.plot(t1, x1[:,1])\n",
        "plt.legend(['Estado $x_2$'])\n",
        "plt.ylabel('Amplitude')\n",
        "plt.xlabel('t(s)')\n",
        "plt.show()"
      ],
      "execution_count": 19,
      "outputs": [
        {
          "output_type": "display_data",
          "data": {
            "image/png": "[encoded data removed]",
            "text/plain": [
              "<Figure size 432x288 with 3 Axes>"
            ]
          },
          "metadata": {
            "needs_background": "light"
          }
        }
      ]
    },
    {
      "cell_type": "markdown",
      "metadata": {
        "id": "adn8wvFXArMg"
      },
      "source": [
        "## Função de tranferência"
      ]
    },
    {
      "cell_type": "code",
      "metadata": {
        "colab": {
          "base_uri": "https://localhost:8080/",
          "height": 278
        },
        "id": "aMby3krI-8OS",
        "outputId": "fdb82b2d-883a-4ca4-ee08-561f2cf68097"
      },
      "source": [
        "# podemos definir ft usando tf(num, dem) também\n",
        "num = 2\n",
        "den = [1, 3, 2]\n",
        "G = tf(num, den)\n",
        "##########################################\n",
        "G = ss2tf(sys)\n",
        "y2, t2 = step(G, t)\n",
        "plt.figure()\n",
        "plt.plot(t2, y2)\n",
        "plt.legend(['Saída y'])\n",
        "plt.ylabel('Amplitude')\n",
        "plt.xlabel('t(s)')\n",
        "plt.show()"
      ],
      "execution_count": 32,
      "outputs": [
        {
          "output_type": "display_data",
          "data": {
            "image/png": "[encoded data removed]",
            "text/plain": [
              "<Figure size 432x288 with 1 Axes>"
            ]
          },
          "metadata": {
            "needs_background": "light"
          }
        }
      ]
    },
    {
      "cell_type": "markdown",
      "metadata": {
        "id": "aT17JEyABjhT"
      },
      "source": [
        "## Autovalores usando o modelo em espaço de estados"
      ]
    },
    {
      "cell_type": "code",
      "metadata": {
        "colab": {
          "base_uri": "https://localhost:8080/"
        },
        "id": "1z2eNpG7BEWb",
        "outputId": "98ee4546-3b16-49b5-f818-1c0c0803a65f"
      },
      "source": [
        "print(la.eigvals(A))"
      ],
      "execution_count": 22,
      "outputs": [
        {
          "output_type": "stream",
          "name": "stdout",
          "text": [
            "[-1.+0.j -2.+0.j]\n"
          ]
        }
      ]
    },
    {
      "cell_type": "markdown",
      "metadata": {
        "id": "cSslWQW8CbNl"
      },
      "source": [
        "## Polos da função de transfência"
      ]
    },
    {
      "cell_type": "code",
      "metadata": {
        "colab": {
          "base_uri": "https://localhost:8080/"
        },
        "id": "WwqU4S7BCACq",
        "outputId": "0d88865e-b300-48eb-e70d-ed6d2d044183"
      },
      "source": [
        "print(pole(G))"
      ],
      "execution_count": 23,
      "outputs": [
        {
          "output_type": "stream",
          "name": "stdout",
          "text": [
            "[-2. -1.]\n"
          ]
        }
      ]
    },
    {
      "cell_type": "markdown",
      "metadata": {
        "id": "rHh_PAaZCvpf"
      },
      "source": [
        "## Coverter de função de transferência para espaço de estados"
      ]
    },
    {
      "cell_type": "code",
      "metadata": {
        "colab": {
          "base_uri": "https://localhost:8080/"
        },
        "id": "DWBOQec7CnMB",
        "outputId": "da42ff3b-aae9-4f83-93a2-ce78af611092"
      },
      "source": [
        "sys1 = tf2ss(G)\n",
        "print(sys1)\n",
        "print(la.eigvals(sys1.A))"
      ],
      "execution_count": 27,
      "outputs": [
        {
          "output_type": "stream",
          "name": "stdout",
          "text": [
            "A = [[-3. -2.]\n",
            "     [ 1.  0.]]\n",
            "\n",
            "B = [[1.]\n",
            "     [0.]]\n",
            "\n",
            "C = [[0. 2.]]\n",
            "\n",
            "D = [[0.]]\n",
            "\n",
            "[-2.+0.j -1.+0.j]\n"
          ]
        }
      ]
    },
    {
      "cell_type": "markdown",
      "metadata": {
        "id": "VNxU3lh2EQX5"
      },
      "source": [
        "## Da forma controlável para a forma observável"
      ]
    },
    {
      "cell_type": "code",
      "metadata": {
        "colab": {
          "base_uri": "https://localhost:8080/"
        },
        "id": "sgWUGa9ADBJB",
        "outputId": "e7a2ddc7-e529-44ce-9e70-5b4f79e81346"
      },
      "source": [
        "sys2 = ss(np.transpose(sys1.A), np.transpose(sys1.C), np.transpose(sys.B), D)\n",
        "print(sys2)"
      ],
      "execution_count": 30,
      "outputs": [
        {
          "output_type": "stream",
          "name": "stdout",
          "text": [
            "A = [[-3.  1.]\n",
            "     [-2.  0.]]\n",
            "\n",
            "B = [[0.]\n",
            "     [2.]]\n",
            "\n",
            "C = [[0. 1.]]\n",
            "\n",
            "D = [[0.]]\n",
            "\n"
          ]
        }
      ]
    },
    {
      "cell_type": "markdown",
      "metadata": {
        "id": "7XUhhc6GFbaA"
      },
      "source": [
        "## Expansão em frações parciais"
      ]
    },
    {
      "cell_type": "code",
      "metadata": {
        "colab": {
          "base_uri": "https://localhost:8080/"
        },
        "id": "dU6m-tPiE1J5",
        "outputId": "16f88d56-b219-4ac7-ea6e-db1b7bc83d25"
      },
      "source": [
        "Res, Polos, k = sps.residue(num, den)\n",
        "print(Res)\n",
        "print(Polos)"
      ],
      "execution_count": 34,
      "outputs": [
        {
          "output_type": "stream",
          "name": "stdout",
          "text": [
            "[ 2. -2.]\n",
            "[-1. -2.]\n"
          ]
        }
      ]
    },
    {
      "cell_type": "markdown",
      "metadata": {
        "id": "uhy2xfo0GSUS"
      },
      "source": [
        "## Autovalores e autovetores"
      ]
    },
    {
      "cell_type": "code",
      "metadata": {
        "colab": {
          "base_uri": "https://localhost:8080/"
        },
        "id": "dKWkdMXnFxpf",
        "outputId": "eaf4d448-bf7b-4c20-e04b-b6fe19b59a7e"
      },
      "source": [
        "aVal, aVet = la.eig(A)\n",
        "print(aVal)\n",
        "print(aVet)"
      ],
      "execution_count": 35,
      "outputs": [
        {
          "output_type": "stream",
          "name": "stdout",
          "text": [
            "[-1.+0.j -2.+0.j]\n",
            "[[ 0.70710678 -0.4472136 ]\n",
            " [-0.70710678  0.89442719]]\n"
          ]
        }
      ]
    },
    {
      "cell_type": "markdown",
      "metadata": {
        "id": "W1ULJD6sHCZR"
      },
      "source": [
        "## Para multiplicar matrizes é necessário usar np.array e o operador @"
      ]
    },
    {
      "cell_type": "code",
      "metadata": {
        "colab": {
          "base_uri": "https://localhost:8080/"
        },
        "id": "kbv40k6CGinX",
        "outputId": "08ffc8e3-6875-4382-b3a6-7a367c78d257"
      },
      "source": [
        "print(np.array(A) @ np.array(B))"
      ],
      "execution_count": 37,
      "outputs": [
        {
          "output_type": "stream",
          "name": "stdout",
          "text": [
            "[[ 1]\n",
            " [-3]]\n"
          ]
        }
      ]
    },
    {
      "cell_type": "markdown",
      "metadata": {
        "id": "9Ql3TD6fHtx3"
      },
      "source": [
        "## Matriz de controlabilidade"
      ]
    },
    {
      "cell_type": "code",
      "metadata": {
        "colab": {
          "base_uri": "https://localhost:8080/"
        },
        "id": "bSwHLBLKHapH",
        "outputId": "84cd3904-28bb-4730-a9b2-fb7caf67d174"
      },
      "source": [
        "print(ctrb(A, B))"
      ],
      "execution_count": 39,
      "outputs": [
        {
          "output_type": "stream",
          "name": "stdout",
          "text": [
            "[[ 0.  1.]\n",
            " [ 1. -3.]]\n"
          ]
        }
      ]
    },
    {
      "cell_type": "markdown",
      "metadata": {
        "id": "LinqRwmJHzWZ"
      },
      "source": [
        "## Matriz de observabilidade"
      ]
    },
    {
      "cell_type": "code",
      "metadata": {
        "colab": {
          "base_uri": "https://localhost:8080/"
        },
        "id": "VKkIQlcKHprV",
        "outputId": "ae1dd852-5fde-424c-a678-642ae8664abe"
      },
      "source": [
        "print(obsv(A, C))"
      ],
      "execution_count": 40,
      "outputs": [
        {
          "output_type": "stream",
          "name": "stdout",
          "text": [
            "[[2. 0.]\n",
            " [0. 2.]]\n"
          ]
        }
      ]
    },
    {
      "cell_type": "code",
      "metadata": {
        "id": "1ixbi4tCH-Ee"
      },
      "source": [
        ""
      ],
      "execution_count": null,
      "outputs": []
    }
  ]
}